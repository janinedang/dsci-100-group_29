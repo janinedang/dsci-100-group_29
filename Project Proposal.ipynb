{
 "cells": [
  {
   "cell_type": "code",
   "execution_count": 1,
   "id": "c7a09b49-5a68-4a54-b15e-56c6b76776a7",
   "metadata": {},
   "outputs": [],
   "source": [
    "# DSCI 100 Group 29 Project Proposal"
   ]
  },
  {
   "cell_type": "code",
   "execution_count": null,
   "id": "5d8008ca-6633-4092-888a-8ba3d15c2caf",
   "metadata": {},
   "outputs": [],
   "source": []
  },
  {
   "cell_type": "code",
   "execution_count": 4,
   "id": "34d1846e-703a-4d26-afe6-6b44df407f8d",
   "metadata": {},
   "outputs": [
    {
     "ename": "ERROR",
     "evalue": "Error in read_excel(\"data/dsci-100-group_29/Dry_Bean_Dataset.xlsx\"): could not find function \"read_excel\"\n",
     "output_type": "error",
     "traceback": [
      "Error in read_excel(\"data/dsci-100-group_29/Dry_Bean_Dataset.xlsx\"): could not find function \"read_excel\"\nTraceback:\n"
     ]
    }
   ],
   "source": []
  },
  {
   "cell_type": "code",
   "execution_count": null,
   "id": "37238f52-991e-4b16-838b-46074a81ac70",
   "metadata": {},
   "outputs": [],
   "source": []
  }
 ],
 "metadata": {
  "kernelspec": {
   "display_name": "R",
   "language": "R",
   "name": "ir"
  },
  "language_info": {
   "codemirror_mode": "r",
   "file_extension": ".r",
   "mimetype": "text/x-r-source",
   "name": "R",
   "pygments_lexer": "r",
   "version": "4.3.1"
  }
 },
 "nbformat": 4,
 "nbformat_minor": 5
}
