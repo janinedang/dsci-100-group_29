{
 "cells": [
  {
   "cell_type": "code",
   "execution_count": 1,
   "id": "c7a09b49-5a68-4a54-b15e-56c6b76776a7",
   "metadata": {},
   "outputs": [],
   "source": [
    "# DSCI 100 Group 29 Project Proposal"
   ]
  },
  {
   "cell_type": "code",
   "execution_count": 2,
   "id": "5d8008ca-6633-4092-888a-8ba3d15c2caf",
   "metadata": {},
   "outputs": [
    {
     "name": "stderr",
     "output_type": "stream",
     "text": [
      "── \u001b[1mAttaching core tidyverse packages\u001b[22m ──────────────────────── tidyverse 2.0.0 ──\n",
      "\u001b[32m✔\u001b[39m \u001b[34mdplyr    \u001b[39m 1.1.3     \u001b[32m✔\u001b[39m \u001b[34mreadr    \u001b[39m 2.1.4\n",
      "\u001b[32m✔\u001b[39m \u001b[34mforcats  \u001b[39m 1.0.0     \u001b[32m✔\u001b[39m \u001b[34mstringr  \u001b[39m 1.5.0\n",
      "\u001b[32m✔\u001b[39m \u001b[34mggplot2  \u001b[39m 3.4.4     \u001b[32m✔\u001b[39m \u001b[34mtibble   \u001b[39m 3.2.1\n",
      "\u001b[32m✔\u001b[39m \u001b[34mlubridate\u001b[39m 1.9.3     \u001b[32m✔\u001b[39m \u001b[34mtidyr    \u001b[39m 1.3.0\n",
      "\u001b[32m✔\u001b[39m \u001b[34mpurrr    \u001b[39m 1.0.2     \n",
      "── \u001b[1mConflicts\u001b[22m ────────────────────────────────────────── tidyverse_conflicts() ──\n",
      "\u001b[31m✖\u001b[39m \u001b[34mdplyr\u001b[39m::\u001b[32mfilter()\u001b[39m masks \u001b[34mstats\u001b[39m::filter()\n",
      "\u001b[31m✖\u001b[39m \u001b[34mdplyr\u001b[39m::\u001b[32mlag()\u001b[39m    masks \u001b[34mstats\u001b[39m::lag()\n",
      "\u001b[36mℹ\u001b[39m Use the conflicted package (\u001b[3m\u001b[34m<http://conflicted.r-lib.org/>\u001b[39m\u001b[23m) to force all conflicts to become errors\n",
      "── \u001b[1mAttaching packages\u001b[22m ────────────────────────────────────── tidymodels 1.1.1 ──\n",
      "\n",
      "\u001b[32m✔\u001b[39m \u001b[34mbroom       \u001b[39m 1.0.5     \u001b[32m✔\u001b[39m \u001b[34mrsample     \u001b[39m 1.2.0\n",
      "\u001b[32m✔\u001b[39m \u001b[34mdials       \u001b[39m 1.2.0     \u001b[32m✔\u001b[39m \u001b[34mtune        \u001b[39m 1.1.2\n",
      "\u001b[32m✔\u001b[39m \u001b[34minfer       \u001b[39m 1.0.5     \u001b[32m✔\u001b[39m \u001b[34mworkflows   \u001b[39m 1.1.3\n",
      "\u001b[32m✔\u001b[39m \u001b[34mmodeldata   \u001b[39m 1.2.0     \u001b[32m✔\u001b[39m \u001b[34mworkflowsets\u001b[39m 1.0.1\n",
      "\u001b[32m✔\u001b[39m \u001b[34mparsnip     \u001b[39m 1.1.1     \u001b[32m✔\u001b[39m \u001b[34myardstick   \u001b[39m 1.2.0\n",
      "\u001b[32m✔\u001b[39m \u001b[34mrecipes     \u001b[39m 1.0.8     \n",
      "\n",
      "── \u001b[1mConflicts\u001b[22m ───────────────────────────────────────── tidymodels_conflicts() ──\n",
      "\u001b[31m✖\u001b[39m \u001b[34mscales\u001b[39m::\u001b[32mdiscard()\u001b[39m masks \u001b[34mpurrr\u001b[39m::discard()\n",
      "\u001b[31m✖\u001b[39m \u001b[34mdplyr\u001b[39m::\u001b[32mfilter()\u001b[39m   masks \u001b[34mstats\u001b[39m::filter()\n",
      "\u001b[31m✖\u001b[39m \u001b[34mrecipes\u001b[39m::\u001b[32mfixed()\u001b[39m  masks \u001b[34mstringr\u001b[39m::fixed()\n",
      "\u001b[31m✖\u001b[39m \u001b[34mdplyr\u001b[39m::\u001b[32mlag()\u001b[39m      masks \u001b[34mstats\u001b[39m::lag()\n",
      "\u001b[31m✖\u001b[39m \u001b[34myardstick\u001b[39m::\u001b[32mspec()\u001b[39m masks \u001b[34mreadr\u001b[39m::spec()\n",
      "\u001b[31m✖\u001b[39m \u001b[34mrecipes\u001b[39m::\u001b[32mstep()\u001b[39m   masks \u001b[34mstats\u001b[39m::step()\n",
      "\u001b[34m•\u001b[39m Dig deeper into tidy modeling with R at \u001b[32mhttps://www.tmwr.org\u001b[39m\n",
      "\n"
     ]
    }
   ],
   "source": [
    "library(tidyverse)\n",
    "library(tidymodels)"
   ]
  },
  {
   "cell_type": "code",
   "execution_count": 25,
   "id": "9bc1e9b6-4140-4540-9267-633a41e21286",
   "metadata": {},
   "outputs": [
    {
     "name": "stderr",
     "output_type": "stream",
     "text": [
      "\u001b[1mRows: \u001b[22m\u001b[34m13612\u001b[39m \u001b[1mColumns: \u001b[22m\u001b[34m17\u001b[39m\n",
      "\u001b[36m──\u001b[39m \u001b[1mColumn specification\u001b[22m \u001b[36m────────────────────────────────────────────────────────\u001b[39m\n",
      "\u001b[1mDelimiter:\u001b[22m \",\"\n",
      "\u001b[31mchr\u001b[39m (17): X1, X2, X3, X4, X5, X6, X7, X8, X9, X10, X11, X12, X13, X14, X15, ...\n",
      "\n",
      "\u001b[36mℹ\u001b[39m Use `spec()` to retrieve the full column specification for this data.\n",
      "\u001b[36mℹ\u001b[39m Specify the column types or set `show_col_types = FALSE` to quiet this message.\n"
     ]
    },
    {
     "data": {
      "text/html": [
       "<table class=\"dataframe\">\n",
       "<caption>A tibble: 6 × 17</caption>\n",
       "<thead>\n",
       "\t<tr><th scope=col>area</th><th scope=col>perimeter</th><th scope=col>major_axis_length</th><th scope=col>minor_axis_length</th><th scope=col>aspect_ration</th><th scope=col>eccenticity</th><th scope=col>convex_area</th><th scope=col>equiv_diameter</th><th scope=col>extent</th><th scope=col>solidity</th><th scope=col>roundness</th><th scope=col>compactness</th><th scope=col>shape_factor_1</th><th scope=col>shape_factor_2</th><th scope=col>shape_factor_3</th><th scope=col>shape_factor_4</th><th scope=col>class</th></tr>\n",
       "\t<tr><th scope=col>&lt;chr&gt;</th><th scope=col>&lt;chr&gt;</th><th scope=col>&lt;chr&gt;</th><th scope=col>&lt;chr&gt;</th><th scope=col>&lt;chr&gt;</th><th scope=col>&lt;chr&gt;</th><th scope=col>&lt;chr&gt;</th><th scope=col>&lt;chr&gt;</th><th scope=col>&lt;chr&gt;</th><th scope=col>&lt;chr&gt;</th><th scope=col>&lt;chr&gt;</th><th scope=col>&lt;chr&gt;</th><th scope=col>&lt;chr&gt;</th><th scope=col>&lt;chr&gt;</th><th scope=col>&lt;chr&gt;</th><th scope=col>&lt;chr&gt;</th><th scope=col>&lt;chr&gt;</th></tr>\n",
       "</thead>\n",
       "<tbody>\n",
       "\t<tr><td>Area </td><td>Perimeter</td><td>MajorAxisLength</td><td>MinorAxisLength</td><td>AspectRation</td><td>Eccentricity</td><td>ConvexArea</td><td>EquivDiameter</td><td>Extent      </td><td>Solidity    </td><td>roundness   </td><td>Compactness </td><td>ShapeFactor1  </td><td>ShapeFactor2  </td><td>ShapeFactor3</td><td>ShapeFactor4</td><td>Class</td></tr>\n",
       "\t<tr><td>28395</td><td>610.291  </td><td>208.1781167    </td><td>173.888747     </td><td>1.197191424 </td><td>0.5498121871</td><td>28715     </td><td>190.1410973  </td><td>0.7639225182</td><td>0.9888559986</td><td>0.9580271263</td><td>0.9133577548</td><td>0.007331506135</td><td>0.003147289167</td><td>0.8342223882</td><td>0.998723889 </td><td>SEKER</td></tr>\n",
       "\t<tr><td>28734</td><td>638.018  </td><td>200.5247957    </td><td>182.7344194    </td><td>1.097356461 </td><td>0.4117852514</td><td>29172     </td><td>191.2727505  </td><td>0.7839681327</td><td>0.9849856026</td><td>0.8870336366</td><td>0.9538608423</td><td>0.006978659277</td><td>0.003563623712</td><td>0.9098505064</td><td>0.9984303314</td><td>SEKER</td></tr>\n",
       "\t<tr><td>29380</td><td>624.11   </td><td>212.8261299    </td><td>175.9311426    </td><td>1.209712656 </td><td>0.5627273168</td><td>29690     </td><td>193.4109041  </td><td>0.7781132475</td><td>0.989558774 </td><td>0.947849473 </td><td>0.9087742385</td><td>0.00724391184 </td><td>0.003047733217</td><td>0.8258706166</td><td>0.9990661374</td><td>SEKER</td></tr>\n",
       "\t<tr><td>30008</td><td>645.884  </td><td>210.557999     </td><td>182.5165157    </td><td>1.153638059 </td><td>0.4986159764</td><td>30724     </td><td>195.4670618  </td><td>0.7826812728</td><td>0.9766957427</td><td>0.9039363743</td><td>0.9283288348</td><td>0.007016728838</td><td>0.003214562079</td><td>0.8617944254</td><td>0.9941988485</td><td>SEKER</td></tr>\n",
       "\t<tr><td>30140</td><td>620.134  </td><td>201.8478822    </td><td>190.2792788    </td><td>1.06079802  </td><td>0.3336796578</td><td>30417     </td><td>195.896503   </td><td>0.7730980352</td><td>0.9908932505</td><td>0.9848770694</td><td>0.9705155232</td><td>0.006697010025</td><td>0.003664971964</td><td>0.9419003809</td><td>0.999166059 </td><td>SEKER</td></tr>\n",
       "</tbody>\n",
       "</table>\n"
      ],
      "text/latex": [
       "A tibble: 6 × 17\n",
       "\\begin{tabular}{lllllllllllllllll}\n",
       " area & perimeter & major\\_axis\\_length & minor\\_axis\\_length & aspect\\_ration & eccenticity & convex\\_area & equiv\\_diameter & extent & solidity & roundness & compactness & shape\\_factor\\_1 & shape\\_factor\\_2 & shape\\_factor\\_3 & shape\\_factor\\_4 & class\\\\\n",
       " <chr> & <chr> & <chr> & <chr> & <chr> & <chr> & <chr> & <chr> & <chr> & <chr> & <chr> & <chr> & <chr> & <chr> & <chr> & <chr> & <chr>\\\\\n",
       "\\hline\n",
       "\t Area  & Perimeter & MajorAxisLength & MinorAxisLength & AspectRation & Eccentricity & ConvexArea & EquivDiameter & Extent       & Solidity     & roundness    & Compactness  & ShapeFactor1   & ShapeFactor2   & ShapeFactor3 & ShapeFactor4 & Class\\\\\n",
       "\t 28395 & 610.291   & 208.1781167     & 173.888747      & 1.197191424  & 0.5498121871 & 28715      & 190.1410973   & 0.7639225182 & 0.9888559986 & 0.9580271263 & 0.9133577548 & 0.007331506135 & 0.003147289167 & 0.8342223882 & 0.998723889  & SEKER\\\\\n",
       "\t 28734 & 638.018   & 200.5247957     & 182.7344194     & 1.097356461  & 0.4117852514 & 29172      & 191.2727505   & 0.7839681327 & 0.9849856026 & 0.8870336366 & 0.9538608423 & 0.006978659277 & 0.003563623712 & 0.9098505064 & 0.9984303314 & SEKER\\\\\n",
       "\t 29380 & 624.11    & 212.8261299     & 175.9311426     & 1.209712656  & 0.5627273168 & 29690      & 193.4109041   & 0.7781132475 & 0.989558774  & 0.947849473  & 0.9087742385 & 0.00724391184  & 0.003047733217 & 0.8258706166 & 0.9990661374 & SEKER\\\\\n",
       "\t 30008 & 645.884   & 210.557999      & 182.5165157     & 1.153638059  & 0.4986159764 & 30724      & 195.4670618   & 0.7826812728 & 0.9766957427 & 0.9039363743 & 0.9283288348 & 0.007016728838 & 0.003214562079 & 0.8617944254 & 0.9941988485 & SEKER\\\\\n",
       "\t 30140 & 620.134   & 201.8478822     & 190.2792788     & 1.06079802   & 0.3336796578 & 30417      & 195.896503    & 0.7730980352 & 0.9908932505 & 0.9848770694 & 0.9705155232 & 0.006697010025 & 0.003664971964 & 0.9419003809 & 0.999166059  & SEKER\\\\\n",
       "\\end{tabular}\n"
      ],
      "text/markdown": [
       "\n",
       "A tibble: 6 × 17\n",
       "\n",
       "| area &lt;chr&gt; | perimeter &lt;chr&gt; | major_axis_length &lt;chr&gt; | minor_axis_length &lt;chr&gt; | aspect_ration &lt;chr&gt; | eccenticity &lt;chr&gt; | convex_area &lt;chr&gt; | equiv_diameter &lt;chr&gt; | extent &lt;chr&gt; | solidity &lt;chr&gt; | roundness &lt;chr&gt; | compactness &lt;chr&gt; | shape_factor_1 &lt;chr&gt; | shape_factor_2 &lt;chr&gt; | shape_factor_3 &lt;chr&gt; | shape_factor_4 &lt;chr&gt; | class &lt;chr&gt; |\n",
       "|---|---|---|---|---|---|---|---|---|---|---|---|---|---|---|---|---|\n",
       "| Area  | Perimeter | MajorAxisLength | MinorAxisLength | AspectRation | Eccentricity | ConvexArea | EquivDiameter | Extent       | Solidity     | roundness    | Compactness  | ShapeFactor1   | ShapeFactor2   | ShapeFactor3 | ShapeFactor4 | Class |\n",
       "| 28395 | 610.291   | 208.1781167     | 173.888747      | 1.197191424  | 0.5498121871 | 28715      | 190.1410973   | 0.7639225182 | 0.9888559986 | 0.9580271263 | 0.9133577548 | 0.007331506135 | 0.003147289167 | 0.8342223882 | 0.998723889  | SEKER |\n",
       "| 28734 | 638.018   | 200.5247957     | 182.7344194     | 1.097356461  | 0.4117852514 | 29172      | 191.2727505   | 0.7839681327 | 0.9849856026 | 0.8870336366 | 0.9538608423 | 0.006978659277 | 0.003563623712 | 0.9098505064 | 0.9984303314 | SEKER |\n",
       "| 29380 | 624.11    | 212.8261299     | 175.9311426     | 1.209712656  | 0.5627273168 | 29690      | 193.4109041   | 0.7781132475 | 0.989558774  | 0.947849473  | 0.9087742385 | 0.00724391184  | 0.003047733217 | 0.8258706166 | 0.9990661374 | SEKER |\n",
       "| 30008 | 645.884   | 210.557999      | 182.5165157     | 1.153638059  | 0.4986159764 | 30724      | 195.4670618   | 0.7826812728 | 0.9766957427 | 0.9039363743 | 0.9283288348 | 0.007016728838 | 0.003214562079 | 0.8617944254 | 0.9941988485 | SEKER |\n",
       "| 30140 | 620.134   | 201.8478822     | 190.2792788     | 1.06079802   | 0.3336796578 | 30417      | 195.896503    | 0.7730980352 | 0.9908932505 | 0.9848770694 | 0.9705155232 | 0.006697010025 | 0.003664971964 | 0.9419003809 | 0.999166059  | SEKER |\n",
       "\n"
      ],
      "text/plain": [
       "  area  perimeter major_axis_length minor_axis_length aspect_ration\n",
       "1 Area  Perimeter MajorAxisLength   MinorAxisLength   AspectRation \n",
       "2 28395 610.291   208.1781167       173.888747        1.197191424  \n",
       "3 28734 638.018   200.5247957       182.7344194       1.097356461  \n",
       "4 29380 624.11    212.8261299       175.9311426       1.209712656  \n",
       "5 30008 645.884   210.557999        182.5165157       1.153638059  \n",
       "6 30140 620.134   201.8478822       190.2792788       1.06079802   \n",
       "  eccenticity  convex_area equiv_diameter extent       solidity    \n",
       "1 Eccentricity ConvexArea  EquivDiameter  Extent       Solidity    \n",
       "2 0.5498121871 28715       190.1410973    0.7639225182 0.9888559986\n",
       "3 0.4117852514 29172       191.2727505    0.7839681327 0.9849856026\n",
       "4 0.5627273168 29690       193.4109041    0.7781132475 0.989558774 \n",
       "5 0.4986159764 30724       195.4670618    0.7826812728 0.9766957427\n",
       "6 0.3336796578 30417       195.896503     0.7730980352 0.9908932505\n",
       "  roundness    compactness  shape_factor_1 shape_factor_2 shape_factor_3\n",
       "1 roundness    Compactness  ShapeFactor1   ShapeFactor2   ShapeFactor3  \n",
       "2 0.9580271263 0.9133577548 0.007331506135 0.003147289167 0.8342223882  \n",
       "3 0.8870336366 0.9538608423 0.006978659277 0.003563623712 0.9098505064  \n",
       "4 0.947849473  0.9087742385 0.00724391184  0.003047733217 0.8258706166  \n",
       "5 0.9039363743 0.9283288348 0.007016728838 0.003214562079 0.8617944254  \n",
       "6 0.9848770694 0.9705155232 0.006697010025 0.003664971964 0.9419003809  \n",
       "  shape_factor_4 class\n",
       "1 ShapeFactor4   Class\n",
       "2 0.998723889    SEKER\n",
       "3 0.9984303314   SEKER\n",
       "4 0.9990661374   SEKER\n",
       "5 0.9941988485   SEKER\n",
       "6 0.999166059    SEKER"
      ]
     },
     "metadata": {},
     "output_type": "display_data"
    }
   ],
   "source": [
    "#read the csv file and use head to view first 6 rows of data\n",
    "dry_bean <-read_csv(\"dry_bean_dataset.csv\", col_names=FALSE) |>\n",
    "           rename( \"area\" = X1,\n",
    "                   \"perimeter\" = X2,\n",
    "                   \"major_axis_length\" = X3,\n",
    "                   \"minor_axis_length\" = X4,\n",
    "                   \"aspect_ration\" = X5,\n",
    "                   \"eccenticity\" = X6,\n",
    "                   \"convex_area\" = X7,\n",
    "                   \"equiv_diameter\" = X8,\n",
    "                   \"extent\" = X9,\n",
    "                   \"solidity\" = X10,\n",
    "                   \"roundness\" = X11,\n",
    "                   \"compactness\" = X12,\n",
    "                   \"shape_factor_1\" = X13,\n",
    "                   \"shape_factor_2\" = X14,\n",
    "                   \"shape_factor_3\" = X15,\n",
    "                   \"shape_factor_4\" = X16,\n",
    "                   \"class\" = X17) |>\n",
    "           head()\n",
    "\n",
    "dry_bean"
   ]
  },
  {
   "cell_type": "code",
   "execution_count": 27,
   "id": "e26439f2-8bdb-41bb-913c-a6c5edb26faf",
   "metadata": {},
   "outputs": [
    {
     "data": {
      "text/html": [
       "<table class=\"dataframe\">\n",
       "<caption>A tibble: 6 × 17</caption>\n",
       "<thead>\n",
       "\t<tr><th scope=col>area</th><th scope=col>perimeter</th><th scope=col>major_axis_length</th><th scope=col>minor_axis_length</th><th scope=col>aspect_ration</th><th scope=col>eccenticity</th><th scope=col>convex_area</th><th scope=col>equiv_diameter</th><th scope=col>extent</th><th scope=col>solidity</th><th scope=col>roundness</th><th scope=col>compactness</th><th scope=col>shape_factor_1</th><th scope=col>shape_factor_2</th><th scope=col>shape_factor_3</th><th scope=col>shape_factor_4</th><th scope=col>class</th></tr>\n",
       "\t<tr><th scope=col>&lt;chr&gt;</th><th scope=col>&lt;chr&gt;</th><th scope=col>&lt;chr&gt;</th><th scope=col>&lt;chr&gt;</th><th scope=col>&lt;chr&gt;</th><th scope=col>&lt;chr&gt;</th><th scope=col>&lt;chr&gt;</th><th scope=col>&lt;chr&gt;</th><th scope=col>&lt;chr&gt;</th><th scope=col>&lt;chr&gt;</th><th scope=col>&lt;chr&gt;</th><th scope=col>&lt;chr&gt;</th><th scope=col>&lt;chr&gt;</th><th scope=col>&lt;chr&gt;</th><th scope=col>&lt;chr&gt;</th><th scope=col>&lt;chr&gt;</th><th scope=col>&lt;fct&gt;</th></tr>\n",
       "</thead>\n",
       "<tbody>\n",
       "\t<tr><td>Area </td><td>Perimeter</td><td>MajorAxisLength</td><td>MinorAxisLength</td><td>AspectRation</td><td>Eccentricity</td><td>ConvexArea</td><td>EquivDiameter</td><td>Extent      </td><td>Solidity    </td><td>roundness   </td><td>Compactness </td><td>ShapeFactor1  </td><td>ShapeFactor2  </td><td>ShapeFactor3</td><td>ShapeFactor4</td><td>Class</td></tr>\n",
       "\t<tr><td>28395</td><td>610.291  </td><td>208.1781167    </td><td>173.888747     </td><td>1.197191424 </td><td>0.5498121871</td><td>28715     </td><td>190.1410973  </td><td>0.7639225182</td><td>0.9888559986</td><td>0.9580271263</td><td>0.9133577548</td><td>0.007331506135</td><td>0.003147289167</td><td>0.8342223882</td><td>0.998723889 </td><td>SEKER</td></tr>\n",
       "\t<tr><td>28734</td><td>638.018  </td><td>200.5247957    </td><td>182.7344194    </td><td>1.097356461 </td><td>0.4117852514</td><td>29172     </td><td>191.2727505  </td><td>0.7839681327</td><td>0.9849856026</td><td>0.8870336366</td><td>0.9538608423</td><td>0.006978659277</td><td>0.003563623712</td><td>0.9098505064</td><td>0.9984303314</td><td>SEKER</td></tr>\n",
       "\t<tr><td>29380</td><td>624.11   </td><td>212.8261299    </td><td>175.9311426    </td><td>1.209712656 </td><td>0.5627273168</td><td>29690     </td><td>193.4109041  </td><td>0.7781132475</td><td>0.989558774 </td><td>0.947849473 </td><td>0.9087742385</td><td>0.00724391184 </td><td>0.003047733217</td><td>0.8258706166</td><td>0.9990661374</td><td>SEKER</td></tr>\n",
       "\t<tr><td>30008</td><td>645.884  </td><td>210.557999     </td><td>182.5165157    </td><td>1.153638059 </td><td>0.4986159764</td><td>30724     </td><td>195.4670618  </td><td>0.7826812728</td><td>0.9766957427</td><td>0.9039363743</td><td>0.9283288348</td><td>0.007016728838</td><td>0.003214562079</td><td>0.8617944254</td><td>0.9941988485</td><td>SEKER</td></tr>\n",
       "\t<tr><td>30140</td><td>620.134  </td><td>201.8478822    </td><td>190.2792788    </td><td>1.06079802  </td><td>0.3336796578</td><td>30417     </td><td>195.896503   </td><td>0.7730980352</td><td>0.9908932505</td><td>0.9848770694</td><td>0.9705155232</td><td>0.006697010025</td><td>0.003664971964</td><td>0.9419003809</td><td>0.999166059 </td><td>SEKER</td></tr>\n",
       "</tbody>\n",
       "</table>\n"
      ],
      "text/latex": [
       "A tibble: 6 × 17\n",
       "\\begin{tabular}{lllllllllllllllll}\n",
       " area & perimeter & major\\_axis\\_length & minor\\_axis\\_length & aspect\\_ration & eccenticity & convex\\_area & equiv\\_diameter & extent & solidity & roundness & compactness & shape\\_factor\\_1 & shape\\_factor\\_2 & shape\\_factor\\_3 & shape\\_factor\\_4 & class\\\\\n",
       " <chr> & <chr> & <chr> & <chr> & <chr> & <chr> & <chr> & <chr> & <chr> & <chr> & <chr> & <chr> & <chr> & <chr> & <chr> & <chr> & <fct>\\\\\n",
       "\\hline\n",
       "\t Area  & Perimeter & MajorAxisLength & MinorAxisLength & AspectRation & Eccentricity & ConvexArea & EquivDiameter & Extent       & Solidity     & roundness    & Compactness  & ShapeFactor1   & ShapeFactor2   & ShapeFactor3 & ShapeFactor4 & Class\\\\\n",
       "\t 28395 & 610.291   & 208.1781167     & 173.888747      & 1.197191424  & 0.5498121871 & 28715      & 190.1410973   & 0.7639225182 & 0.9888559986 & 0.9580271263 & 0.9133577548 & 0.007331506135 & 0.003147289167 & 0.8342223882 & 0.998723889  & SEKER\\\\\n",
       "\t 28734 & 638.018   & 200.5247957     & 182.7344194     & 1.097356461  & 0.4117852514 & 29172      & 191.2727505   & 0.7839681327 & 0.9849856026 & 0.8870336366 & 0.9538608423 & 0.006978659277 & 0.003563623712 & 0.9098505064 & 0.9984303314 & SEKER\\\\\n",
       "\t 29380 & 624.11    & 212.8261299     & 175.9311426     & 1.209712656  & 0.5627273168 & 29690      & 193.4109041   & 0.7781132475 & 0.989558774  & 0.947849473  & 0.9087742385 & 0.00724391184  & 0.003047733217 & 0.8258706166 & 0.9990661374 & SEKER\\\\\n",
       "\t 30008 & 645.884   & 210.557999      & 182.5165157     & 1.153638059  & 0.4986159764 & 30724      & 195.4670618   & 0.7826812728 & 0.9766957427 & 0.9039363743 & 0.9283288348 & 0.007016728838 & 0.003214562079 & 0.8617944254 & 0.9941988485 & SEKER\\\\\n",
       "\t 30140 & 620.134   & 201.8478822     & 190.2792788     & 1.06079802   & 0.3336796578 & 30417      & 195.896503    & 0.7730980352 & 0.9908932505 & 0.9848770694 & 0.9705155232 & 0.006697010025 & 0.003664971964 & 0.9419003809 & 0.999166059  & SEKER\\\\\n",
       "\\end{tabular}\n"
      ],
      "text/markdown": [
       "\n",
       "A tibble: 6 × 17\n",
       "\n",
       "| area &lt;chr&gt; | perimeter &lt;chr&gt; | major_axis_length &lt;chr&gt; | minor_axis_length &lt;chr&gt; | aspect_ration &lt;chr&gt; | eccenticity &lt;chr&gt; | convex_area &lt;chr&gt; | equiv_diameter &lt;chr&gt; | extent &lt;chr&gt; | solidity &lt;chr&gt; | roundness &lt;chr&gt; | compactness &lt;chr&gt; | shape_factor_1 &lt;chr&gt; | shape_factor_2 &lt;chr&gt; | shape_factor_3 &lt;chr&gt; | shape_factor_4 &lt;chr&gt; | class &lt;fct&gt; |\n",
       "|---|---|---|---|---|---|---|---|---|---|---|---|---|---|---|---|---|\n",
       "| Area  | Perimeter | MajorAxisLength | MinorAxisLength | AspectRation | Eccentricity | ConvexArea | EquivDiameter | Extent       | Solidity     | roundness    | Compactness  | ShapeFactor1   | ShapeFactor2   | ShapeFactor3 | ShapeFactor4 | Class |\n",
       "| 28395 | 610.291   | 208.1781167     | 173.888747      | 1.197191424  | 0.5498121871 | 28715      | 190.1410973   | 0.7639225182 | 0.9888559986 | 0.9580271263 | 0.9133577548 | 0.007331506135 | 0.003147289167 | 0.8342223882 | 0.998723889  | SEKER |\n",
       "| 28734 | 638.018   | 200.5247957     | 182.7344194     | 1.097356461  | 0.4117852514 | 29172      | 191.2727505   | 0.7839681327 | 0.9849856026 | 0.8870336366 | 0.9538608423 | 0.006978659277 | 0.003563623712 | 0.9098505064 | 0.9984303314 | SEKER |\n",
       "| 29380 | 624.11    | 212.8261299     | 175.9311426     | 1.209712656  | 0.5627273168 | 29690      | 193.4109041   | 0.7781132475 | 0.989558774  | 0.947849473  | 0.9087742385 | 0.00724391184  | 0.003047733217 | 0.8258706166 | 0.9990661374 | SEKER |\n",
       "| 30008 | 645.884   | 210.557999      | 182.5165157     | 1.153638059  | 0.4986159764 | 30724      | 195.4670618   | 0.7826812728 | 0.9766957427 | 0.9039363743 | 0.9283288348 | 0.007016728838 | 0.003214562079 | 0.8617944254 | 0.9941988485 | SEKER |\n",
       "| 30140 | 620.134   | 201.8478822     | 190.2792788     | 1.06079802   | 0.3336796578 | 30417      | 195.896503    | 0.7730980352 | 0.9908932505 | 0.9848770694 | 0.9705155232 | 0.006697010025 | 0.003664971964 | 0.9419003809 | 0.999166059  | SEKER |\n",
       "\n"
      ],
      "text/plain": [
       "  area  perimeter major_axis_length minor_axis_length aspect_ration\n",
       "1 Area  Perimeter MajorAxisLength   MinorAxisLength   AspectRation \n",
       "2 28395 610.291   208.1781167       173.888747        1.197191424  \n",
       "3 28734 638.018   200.5247957       182.7344194       1.097356461  \n",
       "4 29380 624.11    212.8261299       175.9311426       1.209712656  \n",
       "5 30008 645.884   210.557999        182.5165157       1.153638059  \n",
       "6 30140 620.134   201.8478822       190.2792788       1.06079802   \n",
       "  eccenticity  convex_area equiv_diameter extent       solidity    \n",
       "1 Eccentricity ConvexArea  EquivDiameter  Extent       Solidity    \n",
       "2 0.5498121871 28715       190.1410973    0.7639225182 0.9888559986\n",
       "3 0.4117852514 29172       191.2727505    0.7839681327 0.9849856026\n",
       "4 0.5627273168 29690       193.4109041    0.7781132475 0.989558774 \n",
       "5 0.4986159764 30724       195.4670618    0.7826812728 0.9766957427\n",
       "6 0.3336796578 30417       195.896503     0.7730980352 0.9908932505\n",
       "  roundness    compactness  shape_factor_1 shape_factor_2 shape_factor_3\n",
       "1 roundness    Compactness  ShapeFactor1   ShapeFactor2   ShapeFactor3  \n",
       "2 0.9580271263 0.9133577548 0.007331506135 0.003147289167 0.8342223882  \n",
       "3 0.8870336366 0.9538608423 0.006978659277 0.003563623712 0.9098505064  \n",
       "4 0.947849473  0.9087742385 0.00724391184  0.003047733217 0.8258706166  \n",
       "5 0.9039363743 0.9283288348 0.007016728838 0.003214562079 0.8617944254  \n",
       "6 0.9848770694 0.9705155232 0.006697010025 0.003664971964 0.9419003809  \n",
       "  shape_factor_4 class\n",
       "1 ShapeFactor4   Class\n",
       "2 0.998723889    SEKER\n",
       "3 0.9984303314   SEKER\n",
       "4 0.9990661374   SEKER\n",
       "5 0.9941988485   SEKER\n",
       "6 0.999166059    SEKER"
      ]
     },
     "metadata": {},
     "output_type": "display_data"
    }
   ],
   "source": [
    "dry_bean_tidy <- dry_bean |>\n",
    "                 mutate(class = as_factor(class))\n",
    "\n",
    "dry_bean_tidy"
   ]
  },
  {
   "cell_type": "code",
   "execution_count": null,
   "id": "05c2e027-3a73-457b-80f7-da6d94c9659d",
   "metadata": {},
   "outputs": [],
   "source": []
  }
 ],
 "metadata": {
  "kernelspec": {
   "display_name": "R",
   "language": "R",
   "name": "ir"
  },
  "language_info": {
   "codemirror_mode": "r",
   "file_extension": ".r",
   "mimetype": "text/x-r-source",
   "name": "R",
   "pygments_lexer": "r",
   "version": "4.3.1"
  }
 },
 "nbformat": 4,
 "nbformat_minor": 5
}
